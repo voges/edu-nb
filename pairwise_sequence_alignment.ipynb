{
 "cells": [
  {
   "attachments": {},
   "cell_type": "markdown",
   "metadata": {},
   "source": [
    "# Pairwise Sequence Alignment\n",
    "\n",
    "## The Needleman-Wunsch Algorithm\n",
    "\n",
    "The Needleman-Wunsch algorithm finds the optimal *global* alignment (end-to-end) between two sequences. It consists of the following steps:\n",
    "- Construct the grid\n",
    "- Choose a scoring system (here we use the original scoring system assigning a score $s$ of 1 to a match, a score $s$ of -1 to a mismatch, and a score $d$ of -1 to a gap/indel)\n",
    "- Fill in the scoring matrix $F$ (and construct the pointer matrix on the way)\n",
    "- Use the pointer matrix to perform a traceback to recover the optimal warping path\n",
    "\n",
    "The scores in the scoring matrix $F$ are computed using the already existing scores in the left, top-left, and top cells:\n",
    "\n",
    "$$\n",
    "F(i,j)=\\max\\begin{cases}F(i-1,j-1)+s(x_i,y_i),\\\\F(i-1,j)+d,\\\\F(i,j-1)+d.\\end{cases}\n",
    "$$\n",
    "\n",
    "The following image illustrates the scoring and pointer matrices.\n",
    "\n",
    "![Needleman-Wunsch alignment](nw_alignment.png)\n",
    "\n",
    "**Experiment** &mdash; Perform the global alignment between the sequences `GATTACA` and `CATACCCA`. Plot the scoring matrix and the warping path."
   ]
  },
  {
   "cell_type": "code",
   "execution_count": null,
   "metadata": {},
   "outputs": [],
   "source": [
    "import alignment as aln\n",
    "\n",
    "x = \"GATTACA\"\n",
    "y = \"CATACCCA\"\n",
    "\n",
    "align = aln.make_align(mode=\"global\")\n",
    "x_aln, y_aln, warp_path_x, warp_path_y, scoring_mat = align(seq_a=x, seq_b=y)\n",
    "\n",
    "import matplotlib.pyplot as plt\n",
    "\n",
    "%matplotlib inline\n",
    "\n",
    "plt.figure(figsize=[8, 8])\n",
    "plt.imshow(scoring_mat)\n",
    "plt.xticks(ticks=range(len(y)), labels=y)\n",
    "plt.yticks(ticks=range(len(x)), labels=x)\n",
    "plt.plot(warp_path_y, warp_path_x, \"w\")\n",
    "plt.show()"
   ]
  },
  {
   "attachments": {},
   "cell_type": "markdown",
   "metadata": {},
   "source": [
    "## The Smith-Waterman Algorithm\n",
    "\n",
    "The Smith-Waterman algorithm finds the optimal *local* alignment between two sequences. It is a variation of the Needleman-Wunsch algorithm. The three main differences are:\n",
    "\n",
    "|                | Smith-Waterman algorithm                                | Needleman-Wunsch algorithm                                                 |\n",
    "|----------------|---------------------------------------------------------|----------------------------------------------------------------------------|\n",
    "| Initialization | First row/column = 0                                    | First row/column subject to gap penalty                                    |\n",
    "| Scoring        | Negative scores are set to 0                            | Scores can be negative                                                     |\n",
    "| Traceback      | Begin with the highest score, end when 0 is encountered | Begin with the cell at the lower right of the matrix, end at top left cell |\n",
    "\n",
    "**Experiment** &mdash; Perform the local alignment between the sequences `GATACCA` and `NNNNNNNNNNGATTACANNNNNNNNGATNNNNNNNNN`. Plot the scoring matrix and the warping path."
   ]
  },
  {
   "cell_type": "code",
   "execution_count": null,
   "metadata": {},
   "outputs": [],
   "source": [
    "x = \"GATACCA\"\n",
    "y = \"NNNNNNNNNNGATTACANNNNNNNNGATNNNNNNNNN\"\n",
    "\n",
    "align = aln.make_align(mode=\"local\")\n",
    "x_aln, y_aln, warp_path_x, warp_path_y, scoring_mat = align(seq_a=x, seq_b=y)\n",
    "\n",
    "plt.figure(figsize=[20, 10])\n",
    "plt.imshow(scoring_mat)\n",
    "plt.xticks(ticks=range(len(y)), labels=y)\n",
    "plt.yticks(ticks=range(len(x)), labels=x)\n",
    "plt.plot(warp_path_y, warp_path_x, \"w\")\n",
    "plt.show()"
   ]
  }
 ],
 "metadata": {
  "kernelspec": {
   "display_name": "edu-nb",
   "language": "python",
   "name": "python3"
  },
  "language_info": {
   "codemirror_mode": {
    "name": "ipython",
    "version": 3
   },
   "file_extension": ".py",
   "mimetype": "text/x-python",
   "name": "python",
   "nbconvert_exporter": "python",
   "pygments_lexer": "ipython3",
   "version": "3.9.15"
  },
  "orig_nbformat": 4,
  "vscode": {
   "interpreter": {
    "hash": "dc88d501059dbe4664d476be9d25417f6625518111063b606c3c193499af6026"
   }
  }
 },
 "nbformat": 4,
 "nbformat_minor": 2
}
