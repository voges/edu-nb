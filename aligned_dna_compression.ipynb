{
 "cells": [
  {
   "attachments": {},
   "cell_type": "markdown",
   "metadata": {},
   "source": [
    "# Alignment-Based Compression of DNA Sequences\n",
    "\n",
    "The compression of reads can be improved by aligning them to a known reference sequence.\n",
    "\n",
    "**Experiment** &mdash; Sample 10 reads from the reference sequence `GATTTGGGGTTCAAAGCAGTATCGATCAAATAGTAAATCCATTTGTTCAACTCACAGTTTA`."
   ]
  },
  {
   "cell_type": "code",
   "execution_count": null,
   "metadata": {},
   "outputs": [],
   "source": [
    "import random\n",
    "\n",
    "REF = \"GATTTGGGGTTCAAAGCAGTATCGATCAAATAGTAAATCCATTTGTTCAACTCACAGTTTA\"\n",
    "\n",
    "NUM_READS = 10\n",
    "MIN_READ_LEN = 5\n",
    "MAX_READ_LEN = 10\n",
    "\n",
    "reads = []\n",
    "\n",
    "for i in range(NUM_READS):\n",
    "    start = 0\n",
    "    end = 0\n",
    "    range_acquired = False\n",
    "    while not range_acquired:\n",
    "        start = random.randrange(len(REF))\n",
    "        end = random.randrange(len(REF))\n",
    "        if start > end:\n",
    "            continue\n",
    "        range_len = end - start + 1\n",
    "        if range_len < MIN_READ_LEN:\n",
    "            continue\n",
    "        if range_len > MAX_READ_LEN:\n",
    "            continue\n",
    "        range_acquired = True\n",
    "    read = REF[start : (end + 1)]\n",
    "    reads.append(read)\n",
    "    print(f\"Read {i}: {read}\")"
   ]
  },
  {
   "attachments": {},
   "cell_type": "markdown",
   "metadata": {},
   "source": [
    "**Experiment** &mdash; Add some noise to the sampled reads."
   ]
  },
  {
   "cell_type": "code",
   "execution_count": null,
   "metadata": {},
   "outputs": [],
   "source": [
    "def add_noise(read, abundance=4):\n",
    "    choices = [\"A\", \"C\", \"G\", \"T\"]\n",
    "    num_noisy_bases = 0\n",
    "    noisy_read = \"\"\n",
    "    for base in read:\n",
    "        if not random.randrange(abundance):\n",
    "            noisy_read += random.choice([c for c in choices if c != base])\n",
    "            num_noisy_bases += 1\n",
    "        else:\n",
    "            noisy_read += base\n",
    "    return noisy_read, num_noisy_bases\n",
    "\n",
    "\n",
    "noisy_reads = []\n",
    "for read in reads:\n",
    "    noisy_read, num_noisy_bases = add_noise(read=read, abundance=4)\n",
    "    print(f\"Added {num_noisy_bases} noisy base(s): {read:10s} -> {noisy_read:10s}\")\n",
    "    noisy_reads.append(noisy_read)"
   ]
  },
  {
   "attachments": {},
   "cell_type": "markdown",
   "metadata": {},
   "source": [
    "**Experiment** &mdash; Align the noisy reads locally to the reference sequence. Compute the residual of each noisy read w.r.t. the reference sequence."
   ]
  },
  {
   "cell_type": "code",
   "execution_count": null,
   "metadata": {},
   "outputs": [],
   "source": [
    "import matplotlib.pyplot as plt\n",
    "import alignment as aln\n",
    "\n",
    "%matplotlib inline\n",
    "\n",
    "residuals = []\n",
    "total_num_clipped_bases = 0\n",
    "\n",
    "for r in noisy_reads:\n",
    "    align = aln.make_align(mode=\"local\")\n",
    "    r_aln, ref_aln, warp_path_r, warp_path_ref, scoring_mat = align(seq_a=r, seq_b=REF)\n",
    "\n",
    "    print(f\"Noisy read                 : {r}\")\n",
    "    aligned_noisy_read_without_gaps = list(filter(lambda elem: elem != \"-\", r_aln))\n",
    "    print(f\"Aligned noisy read w/o gaps: {''.join(aligned_noisy_read_without_gaps)}\")\n",
    "    num_clipped_bases = len(r) - len(aligned_noisy_read_without_gaps)\n",
    "    print(f\"Number of clipped bases    : {num_clipped_bases}\")\n",
    "    total_num_clipped_bases += num_clipped_bases\n",
    "    ref_subsequence = REF[warp_path_ref[0] : (warp_path_ref[-1] + 1)]\n",
    "    print(f\"Reference subsequence      : {ref_subsequence}\")\n",
    "\n",
    "    residual = []\n",
    "    for i, base in enumerate(r_aln):\n",
    "        if i >= len(ref_subsequence) or base != ref_subsequence[i]:\n",
    "            residual.append(base)\n",
    "        else:\n",
    "            residual.append(\"m\")\n",
    "    residuals.append(residual)\n",
    "    print(f\"Aligned noisy read         : {''.join(r_aln)}\")\n",
    "    print(f\"Residual                   : {''.join(residual)}\")\n",
    "\n",
    "    plt.figure(figsize=[20, 10])\n",
    "    plt.imshow(scoring_mat)\n",
    "    plt.xticks(ticks=range(len(REF)), labels=REF)\n",
    "    plt.yticks(ticks=range(len(r)), labels=r)\n",
    "    plt.plot(warp_path_ref, warp_path_r, \"w\")\n",
    "    plt.show()\n",
    "\n",
    "print(f\"In total, {total_num_clipped_bases} bases were clipped.\")"
   ]
  },
  {
   "attachments": {},
   "cell_type": "markdown",
   "metadata": {},
   "source": [
    "**Experiment** &mdash; Calculate the entropy of the noisy reads and of the residual (plus an estimate for the clipped bases)."
   ]
  },
  {
   "cell_type": "code",
   "execution_count": null,
   "metadata": {},
   "outputs": [],
   "source": [
    "import math\n",
    "import entropy\n",
    "\n",
    "noisy_reads = \"\".join(noisy_reads)\n",
    "residuals = [elem for sublist in residuals for elem in sublist]\n",
    "residuals = \"\".join(residuals)\n",
    "\n",
    "noisy_reads_entropy = entropy.entropy(noisy_reads)\n",
    "print(f\"Noisy reads entropy: {round(noisy_reads_entropy, ndigits=2):.2f} bit/symbol\")\n",
    "residuals_entropy = entropy.entropy(residuals)\n",
    "print(f\"Residuals entropy: {round(residuals_entropy, ndigits=2):.2f} bit/symbol\")\n",
    "clipped_bases_entropy = (total_num_clipped_bases * 2) / total_num_clipped_bases\n",
    "print(f\"Clipped bases entropy: {clipped_bases_entropy:.2f} bit/symbol\")\n",
    "\n",
    "noisy_reads_size = math.ceil(noisy_reads_entropy * len(noisy_reads))\n",
    "residuals_size = math.ceil(residuals_entropy * len(residuals))\n",
    "clipped_bases_size = math.ceil(clipped_bases_entropy * total_num_clipped_bases)\n",
    "print(f\"Noisy reads size: {noisy_reads_size}\")\n",
    "print(f\"Residuals size: {residuals_size}\")\n",
    "print(f\"Clipped bases size: {clipped_bases_size}\")"
   ]
  }
 ],
 "metadata": {
  "kernelspec": {
   "display_name": "edu-nb",
   "language": "python",
   "name": "python3"
  },
  "language_info": {
   "codemirror_mode": {
    "name": "ipython",
    "version": 3
   },
   "file_extension": ".py",
   "mimetype": "text/x-python",
   "name": "python",
   "nbconvert_exporter": "python",
   "pygments_lexer": "ipython3",
   "version": "3.9.15"
  },
  "orig_nbformat": 4,
  "vscode": {
   "interpreter": {
    "hash": "dc88d501059dbe4664d476be9d25417f6625518111063b606c3c193499af6026"
   }
  }
 },
 "nbformat": 4,
 "nbformat_minor": 2
}
