{
 "cells": [
  {
   "attachments": {},
   "cell_type": "markdown",
   "metadata": {},
   "source": [
    "# Approaches for the Completion of Euclidean Distance Matrices\n",
    "\n",
    "Contents:\n",
    "- Simulate a fake chromosome 'curve' (2D or 3D)\n",
    "- Add noise etc.\n",
    "- 'Read out' the Hi-C data\n",
    "- Compute the sparse EDM\n",
    "- Perform EDM completion"
   ]
  }
 ],
 "metadata": {
  "language_info": {
   "name": "python"
  },
  "orig_nbformat": 4
 },
 "nbformat": 4,
 "nbformat_minor": 2
}
