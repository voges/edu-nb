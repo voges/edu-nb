{
 "cells": [
  {
   "attachments": {},
   "cell_type": "markdown",
   "metadata": {},
   "source": [
    "# Variant Calling and Filtering"
   ]
  },
  {
   "attachments": {},
   "cell_type": "markdown",
   "metadata": {},
   "source": [
    "## Variant Calling\n",
    "\n",
    "A copy of Fabian's simple variant caller from the BACON project"
   ]
  },
  {
   "attachments": {},
   "cell_type": "markdown",
   "metadata": {},
   "source": [
    "## Variant Filtering\n",
    "\n",
    "Demonstrate the differences between the following approaches:\n",
    "- No filtering at all\n",
    "- Hard threshold\n",
    "- GMM on a subset of variant features (similar to GATK's VQSR)"
   ]
  }
 ],
 "metadata": {
  "language_info": {
   "name": "python"
  },
  "orig_nbformat": 4
 },
 "nbformat": 4,
 "nbformat_minor": 2
}
