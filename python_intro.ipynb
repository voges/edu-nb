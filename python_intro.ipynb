{
 "cells": [
  {
   "attachments": {},
   "cell_type": "markdown",
   "metadata": {},
   "source": [
    "# Python Introduction\n",
    "\n",
    "Contents:\n",
    "- Syntax\n",
    "- Control structures\n",
    "- Variables\n",
    "- Functions\n",
    "- Data types\n",
    "- Packages"
   ]
  }
 ],
 "metadata": {
  "language_info": {
   "name": "python"
  },
  "orig_nbformat": 4
 },
 "nbformat": 4,
 "nbformat_minor": 2
}
