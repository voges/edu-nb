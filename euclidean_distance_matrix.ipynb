{
 "cells": [
  {
   "attachments": {},
   "cell_type": "markdown",
   "metadata": {},
   "source": [
    "# The Euclidean Distance Matrix\n",
    "\n",
    "A Euclidean distance matrix (EDM) is an $n \\times n$ matrix representing the spacing of a set of $n$ points $p_1, p_2, \\dots , p_n$ in $k$-dimensional space $\\mathbb{R}^k$. The entries of the EDM are given by the squares of all pairwise distances.\n",
    "\n",
    "The first step in constructing the EDM is to aggregate the set of $n$ points in the $n \\times k$ coordinate matrix $\\mathbf{P}$.\n",
    "\n",
    "**Experiment** &mdash; Construct a random coordinate matrix for $n=100$ points in $\\mathbb{R}^2 $. Sample the coordinates as integers from a uniform distribution over the closed interval $[-100, 100]$. Then, display the sampled points as a scatter plot."
   ]
  },
  {
   "cell_type": "code",
   "execution_count": null,
   "metadata": {},
   "outputs": [],
   "source": [
    "import matplotlib.pyplot as plt\n",
    "import numpy as np\n",
    "\n",
    "n = 100\n",
    "k = 2\n",
    "\n",
    "coord_mat = np.random.randint(low=-100, high=100 + 1, size=(n, k))\n",
    "\n",
    "plt.scatter(x=[row[0] for row in coord_mat], y=[row[1] for row in coord_mat])"
   ]
  },
  {
   "attachments": {},
   "cell_type": "markdown",
   "metadata": {},
   "source": [
    "**Experiment** &mdash; From the coordinate matrix $\\mathbf{P}$, compute the $n \\times n$ so-called Gram matrix $\\mathbf{X} = \\mathbf{P}\\mathbf{P}^T$. (Simply speaking, Gram matrices are matrices of dot products.) Display the Gram matrix as an image."
   ]
  },
  {
   "cell_type": "code",
   "execution_count": null,
   "metadata": {},
   "outputs": [],
   "source": [
    "gram_mat = coord_mat @ coord_mat.transpose()\n",
    "plt.imshow(gram_mat)"
   ]
  },
  {
   "attachments": {},
   "cell_type": "markdown",
   "metadata": {},
   "source": [
    "The EDM $\\mathbf{D}$ can then be computed from the Gram matrix $\\mathbf{X}$ as\n",
    "\n",
    "$$\\mathbf{D} = \\text{diag}(X)\\mathbf{1}^T + \\mathbf{1}\\text{diag}(\\mathbf{X})^T - 2\\mathbf{X},$$\n",
    "\n",
    "where $\\mathbf{1}$ is the $n \\times 1$ column vector with all ones, and $\\text{diag}(\\mathbf{X})$ is the column vector of the diagonal entries of $\\mathbf{X}$.\n",
    "\n",
    "**Experiment** &mdash; Compute the EDM $\\mathbf{D}$ from the Gram matrix $\\mathbf{X}$. Display the EDM as an image."
   ]
  },
  {
   "cell_type": "code",
   "execution_count": null,
   "metadata": {},
   "outputs": [],
   "source": [
    "ones_mat = np.ones(shape=(n, 1))\n",
    "diag_mat = np.diag(gram_mat).reshape((n, 1))\n",
    "eucl_dist_mat = (\n",
    "    diag_mat @ ones_mat.transpose() + ones_mat @ diag_mat.transpose() - 2 * gram_mat\n",
    ")\n",
    "\n",
    "plt.imshow(eucl_dist_mat)"
   ]
  },
  {
   "attachments": {},
   "cell_type": "markdown",
   "metadata": {},
   "source": [
    "**Experiment** &mdash; Sample two random points $p_1$ and $p_2$ from the coordinate matrix $\\mathbf{P}$. Again, display the coordinate matrix $\\mathbf{P}$ as a scatter plot. In addition, highlight the points $p_1$ and $p_2$ and visualize their Euclidean distance."
   ]
  },
  {
   "cell_type": "code",
   "execution_count": null,
   "metadata": {},
   "outputs": [],
   "source": [
    "import random\n",
    "\n",
    "i1, i2 = random.sample(population=range(n), k=2)\n",
    "x1, y1 = p1 = coord_mat[i1]\n",
    "x2, y2 = p2 = coord_mat[i2]\n",
    "\n",
    "plt.scatter(x=[row[0] for row in coord_mat], y=[row[1] for row in coord_mat])\n",
    "plt.plot([x1, x2], [y1, y2], \"ro-\")"
   ]
  },
  {
   "attachments": {},
   "cell_type": "markdown",
   "metadata": {},
   "source": [
    "**Experiment** &mdash; Compute the distance between the points $p_1$ and $p_2$ using 1) the `math.dist` function; 2) the Euclidean norm: $\\lVert p_1 - p_2 \\rVert$; 3) the EDM."
   ]
  },
  {
   "cell_type": "code",
   "execution_count": null,
   "metadata": {},
   "outputs": [],
   "source": [
    "import math\n",
    "\n",
    "d0 = math.dist(p1, p2)\n",
    "d1 = math.sqrt((x1 - x2) ** 2 + (y1 - y2) ** 2)\n",
    "d2 = math.sqrt(eucl_dist_mat[i1, i2])\n",
    "\n",
    "print(f\"math.dist: {d0}\")\n",
    "print(f\"Euclidean norm: {d1}\")\n",
    "print(f\"EDM: {d2}\")"
   ]
  }
 ],
 "metadata": {
  "kernelspec": {
   "display_name": "edu-nb",
   "language": "python",
   "name": "python3"
  },
  "language_info": {
   "codemirror_mode": {
    "name": "ipython",
    "version": 3
   },
   "file_extension": ".py",
   "mimetype": "text/x-python",
   "name": "python",
   "nbconvert_exporter": "python",
   "pygments_lexer": "ipython3",
   "version": "3.9.15"
  },
  "orig_nbformat": 4,
  "vscode": {
   "interpreter": {
    "hash": "dc88d501059dbe4664d476be9d25417f6625518111063b606c3c193499af6026"
   }
  }
 },
 "nbformat": 4,
 "nbformat_minor": 2
}
