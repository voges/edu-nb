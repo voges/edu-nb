{
 "cells": [
  {
   "attachments": {},
   "cell_type": "markdown",
   "metadata": {},
   "source": [
    "# Simulation of Gene Translation\n",
    "\n",
    "Contents:\n",
    "- Transcription (DNA to mRNA)\n",
    "- Translation (mRNA to amino acid)\n",
    "- Effect of (random) translation errors\n",
    "- Effect of DNA indels"
   ]
  }
 ],
 "metadata": {
  "language_info": {
   "name": "python"
  },
  "orig_nbformat": 4
 },
 "nbformat": 4,
 "nbformat_minor": 2
}
