{
 "cells": [
  {
   "attachments": {},
   "cell_type": "markdown",
   "metadata": {},
   "source": [
    "# Gene Translation Simulator\n",
    "\n",
    "Contents:\n",
    "- Transcription (DNA to mRNA)\n",
    "- Translation (mRNA to amino acid)\n",
    "- Effect of (random) translation errors\n",
    "- Effect of DNA indels"
   ]
  }
 ],
 "metadata": {
  "language_info": {
   "name": "python"
  },
  "orig_nbformat": 4
 },
 "nbformat": 4,
 "nbformat_minor": 2
}
