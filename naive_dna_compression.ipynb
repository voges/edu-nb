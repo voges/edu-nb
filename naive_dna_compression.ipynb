{
 "cells": [
  {
   "attachments": {},
   "cell_type": "markdown",
   "metadata": {},
   "source": [
    "# Naïve Compression of DNA Sequences"
   ]
  },
  {
   "attachments": {},
   "cell_type": "markdown",
   "metadata": {},
   "source": [
    "## Quantification of Information\n",
    "\n",
    "Information theory is based on the observation that knowing that a likely event has occurred is less informative than knowing that an unlikely event has occurred.\n",
    "\n",
    "A quantification of information should have the following properties:\n",
    "- Likely events should have a low information content, and events that are certain to occur should have no information content at all. Less likely events should have a higher information content.\n",
    "- Independent events should have additive information content.\n",
    "\n",
    "The self-information of an event $x$ is hence defined as\n",
    "\n",
    "$$I(x)=-\\log{}P(x).$$\n",
    "\n",
    "By using the base-2 logarithm, the unit of self-information is bit. Hence, one bit is the amount of information gained by observing an event of probability $\\frac{1}{2}$.\n",
    "\n",
    "Self-information deals only with a single event $x$. By computing the expectation of the self-information with respect to the entire probability distribution $P(\\text{x})$ we obtain the entropy\n",
    "\n",
    "$$H(\\text{x})=\\mathbb{E}_{\\text{x}\\sim{}P}[I(\\text{x}=x)]=-\\mathbb{E}_{\\text{x}\\sim{}P}[\\log{}P(\\text{x}=x)]=-\\sum_{x}P(x)\\log{}P(x).$$\n",
    "\n",
    "The entropy gives the average information that is expected in an event $x$ drawn from probability distribution $P(\\text{x})$.\n",
    "\n",
    "**Experiment** &mdash; Compute the entropy of the sequences `AAAA`, `AACC`, `ACGT`."
   ]
  },
  {
   "cell_type": "code",
   "execution_count": null,
   "metadata": {},
   "outputs": [],
   "source": [
    "import entropy\n",
    "\n",
    "for sequence in [\"AAAA\", \"AACC\", \"ACGT\"]:\n",
    "    eta = entropy.entropy(sequence)\n",
    "    print(f\"Entropy of '{sequence}': {round(eta, 2):.2f} bit/symbol\")"
   ]
  },
  {
   "attachments": {},
   "cell_type": "markdown",
   "metadata": {},
   "source": [
    "## The FASTQ Format\n",
    "\n",
    "The FASTQ format is the de-facto standard for the storage of reads, i.e., nucleotide sequences, including corresponding quality scores.\n",
    "\n",
    "Each read is represented by a single FASTQ record, which consists of four lines:\n",
    "- The first line contains the read identifier. It starts with `@`. Typically, sequencing machine vendors generate read identifiers in a proprietary systematic way.\n",
    "- The second line contains the nucleotide sequence, where each nucleotide is represented with a single ASCII character.\n",
    "- The third line starts with `+` and contains an optional description. Usually this line is left empty; it then only contains `+` as separator between the nucleotide sequence and the quality scores.\n",
    "- The fourth line contains the quality scores. A quality score is a value indicating the confidence in a base call.\n",
    "\n",
    "We can convert a FASTQ record (four lines) into a dictionary with the following function:"
   ]
  },
  {
   "cell_type": "code",
   "execution_count": null,
   "metadata": {},
   "outputs": [],
   "source": [
    "def fastq_lines_to_dict(lines):\n",
    "    keys = [\"id\", \"seq\", \"desc\", \"qual\"]\n",
    "    return dict(zip(keys, lines))"
   ]
  },
  {
   "attachments": {},
   "cell_type": "markdown",
   "metadata": {},
   "source": [
    "**Experiment** &mdash; Parse the FASTQ file `example.fastq`."
   ]
  },
  {
   "cell_type": "code",
   "execution_count": null,
   "metadata": {},
   "outputs": [],
   "source": [
    "records = []\n",
    "\n",
    "with open(file=\"example.fastq\", mode=\"r\", encoding=\"utf-8\") as f:\n",
    "    lines = []\n",
    "    for line in f:\n",
    "        lines.append(line.rstrip())\n",
    "        if (len(lines)) == 4:\n",
    "            records.append(fastq_lines_to_dict(lines))\n",
    "            lines = []\n",
    "\n",
    "for i, r in enumerate(records):\n",
    "    print(f\"Record {i}: {str(r)}\")"
   ]
  },
  {
   "attachments": {},
   "cell_type": "markdown",
   "metadata": {},
   "source": [
    "## Compression of Nucleotide Sequences\n",
    "\n",
    "**Experiment** &mdash; Concatenate all nucleotide sequences from the FASTQ file `example.fastq`. Compute the entropy and the maximum (worst-case) compressed size in bit and byte."
   ]
  },
  {
   "cell_type": "code",
   "execution_count": null,
   "metadata": {},
   "outputs": [],
   "source": [
    "import math\n",
    "\n",
    "seq = \"\"\n",
    "for r in records:\n",
    "    seq += r[\"seq\"]\n",
    "seq_len = len(seq)\n",
    "print(f\"Concatenated sequence length: {seq_len}\")\n",
    "\n",
    "eta = entropy.entropy(seq)\n",
    "print(f\"Entropy: {round(eta, 2):.2f} bit/symbol\")\n",
    "\n",
    "max_size_in_bit = math.ceil(eta * seq_len)\n",
    "max_size_in_byte = math.ceil(max_size_in_bit / 8)\n",
    "\n",
    "print(f\"Maximum compressed size: {max_size_in_bit} bit \\u2259 {max_size_in_byte} byte\")\n",
    "print(f\"Worst-case compression ratio: {seq_len / max_size_in_byte:.1f}x\")"
   ]
  },
  {
   "attachments": {},
   "cell_type": "markdown",
   "metadata": {},
   "source": [
    "**Experiment** &mdash; Use gzip to beat the estimated worst-case compression."
   ]
  },
  {
   "cell_type": "code",
   "execution_count": null,
   "metadata": {},
   "outputs": [],
   "source": [
    "import gzip\n",
    "\n",
    "AMPLIFICATION_FACTOR = 10\n",
    "seq *= AMPLIFICATION_FACTOR\n",
    "seq_len = len(seq)\n",
    "\n",
    "compressed_seq = gzip.compress(data=bytes(seq, \"utf-8\"))\n",
    "decompressed_seq = gzip.decompress(data=compressed_seq).decode(\"utf-8\")\n",
    "\n",
    "if decompressed_seq != seq:\n",
    "    raise RuntimeError(\"decompressed sequence is *not* equal to the original sequence\")\n",
    "\n",
    "max_size_in_bit = math.ceil(eta * seq_len)\n",
    "max_size_in_byte = math.ceil(max_size_in_bit / 8)\n",
    "\n",
    "print(f\"Worst-case compression ratio: {seq_len / max_size_in_byte:.1f}x\")\n",
    "print(f\"Gzip compression ratio: {seq_len / len(compressed_seq):.1f}x\")"
   ]
  }
 ],
 "metadata": {
  "kernelspec": {
   "display_name": "edu-nb",
   "language": "python",
   "name": "python3"
  },
  "language_info": {
   "codemirror_mode": {
    "name": "ipython",
    "version": 3
   },
   "file_extension": ".py",
   "mimetype": "text/x-python",
   "name": "python",
   "nbconvert_exporter": "python",
   "pygments_lexer": "ipython3",
   "version": "3.9.15"
  },
  "orig_nbformat": 4,
  "vscode": {
   "interpreter": {
    "hash": "dc88d501059dbe4664d476be9d25417f6625518111063b606c3c193499af6026"
   }
  }
 },
 "nbformat": 4,
 "nbformat_minor": 2
}
